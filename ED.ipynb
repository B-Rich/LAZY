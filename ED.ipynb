{
 "metadata": {
  "anaconda-cloud": {},
  "kernelspec": {
   "display_name": "Python [default]",
   "language": "python",
   "name": "python2"
  },
  "language_info": {
   "codemirror_mode": {
    "name": "ipython",
    "version": 2
   },
   "file_extension": ".py",
   "mimetype": "text/x-python",
   "name": "python",
   "nbconvert_exporter": "python",
   "pygments_lexer": "ipython2",
   "version": "2.7.12"
  },
  "name": "",
  "signature": "sha256:fa0ace93e90848f01311a148157dc36ebeff306d77a6f928ea89043c7e776ec2"
 },
 "nbformat": 3,
 "nbformat_minor": 0,
 "worksheets": [
  {
   "cells": [
    {
     "cell_type": "markdown",
     "metadata": {},
     "source": [
      "Simple Exact Diagonalisation Code\n",
      "---------------------------------\n",
      "Author: Markus Wallerberger.\n",
      "\n",
      "Released under the GNU General Public License, version 2 or later."
     ]
    },
    {
     "cell_type": "code",
     "collapsed": true,
     "input": [
      "import numpy as np\n",
      "import scipy.sparse as sparse\n",
      "import matplotlib.pyplot as pl\n",
      "%matplotlib inline"
     ],
     "language": "python",
     "metadata": {},
     "outputs": [],
     "prompt_number": 1
    },
    {
     "cell_type": "markdown",
     "metadata": {},
     "source": [
      "Annihilation operators of a fermionic Fock space in the occupation number basis.\n",
      "\n",
      "The operators are given in the occupation number basis, where the $i$-th set\n",
      "bit corresponds to the $i$-th state being present in the many-body state. For\n",
      "a, e.g., Hilbert space with eight states 0 .. 7, state number 69 would represent:\n",
      "\n",
      "          i = 7, 6, 5, 4, 3, 2, 1, 0      bit pattern    alpha\n",
      "            | 0, 1, 0, 0, 0, 1, 0, 1 >  =  0b01000101  =   69\n",
      "\n",
      "The fermionic anti-commutation relation requires a sign convention: for the\n",
      "annihilation operator $c_i$, we choose it as $(-1)^{N_\\alpha}$ where $N_\\alpha$\n",
      "is the number of electrons of flavour $k < i$ being occupied for the\n",
      "many-body state $\\alpha$."
     ]
    },
    {
     "cell_type": "code",
     "collapsed": false,
     "input": [
      "def get_annihilators(nflavours):\n",
      "    nfock = 2**nflavours\n",
      "    fock_range = np.arange(nfock)\n",
      "\n",
      "    c = [None] * nflavours\n",
      "    sign = np.ones(nfock, np.int8)\n",
      "    bitmask = 1\n",
      "    for i in range(nflavours):\n",
      "        # The operator c_i removes the state i, which is equivalent to\n",
      "        # shifting the Fock state 2**i to the left or occupying the +2**i'th\n",
      "        # side diagonal, but only if the state is indeed present (has_i).\n",
      "        # Diagonal storage always starts at column 0 (the first rows in the\n",
      "        # c operators being \"above\" the matrix)\n",
      "        has_i = np.array(fock_range & bitmask, dtype=np.bool)\n",
      "        c[i] = sparse.dia_matrix((has_i * sign, bitmask),\n",
      "                                 shape=(nfock, nfock), dtype=np.int8).todense()\n",
      "\n",
      "        # The sign is (-1)**n, where n is the number of occupied states\n",
      "        # smaller than (ordered before) i.  So, for the next step we flip\n",
      "        # the sign of those elements where the current state is present.\n",
      "        sign[has_i] *= -1\n",
      "        bitmask <<= 1\n",
      "    \n",
      "    return c"
     ],
     "language": "python",
     "metadata": {},
     "outputs": [],
     "prompt_number": 2
    },
    {
     "cell_type": "code",
     "collapsed": false,
     "input": [
      "# Check, e.g., anticommutator\n",
      "c = get_annihilators(2)\n",
      "c[0] * c[1] + c[1] * c[0]"
     ],
     "language": "python",
     "metadata": {},
     "outputs": [
      {
       "metadata": {},
       "output_type": "pyout",
       "prompt_number": 3,
       "text": [
        "matrix([[0, 0, 0, 0],\n",
        "        [0, 0, 0, 0],\n",
        "        [0, 0, 0, 0],\n",
        "        [0, 0, 0, 0]], dtype=int8)"
       ]
      }
     ],
     "prompt_number": 3
    },
    {
     "cell_type": "markdown",
     "metadata": {},
     "source": [
      "Construct the Hamiltonian of the Anderson model for a finite bath:\n",
      "$$\n",
      "H = U c^\\dagger_\\uparrow c_\\uparrow c^\\dagger_\\downarrow c_\\downarrow - \\mu (c^\\dagger_\\uparrow c_\\uparrow  + c^\\dagger_\\downarrow c_\\downarrow ) + \\sum_{k,\\sigma} (V_{k\\sigma} f^\\dagger_{k\\sigma} c_\\sigma + V^*_{k\\sigma} c^\\dagger_\\sigma f_{k\\sigma}) + \\sum_{k,\\sigma} \\epsilon_{k\\sigma} f^\\dagger_{k\\sigma} f_{k\\sigma},\n",
      "$$\n",
      "where $c_\\sigma$ annihilates a local fermion of spin $\\sigma$ and $f_{k\\sigma}$ annhilates a\n",
      "bath fermion of spin $\\sigma$ and, in this case, discrete momentum $k$."
     ]
    },
    {
     "cell_type": "code",
     "collapsed": true,
     "input": [
      "beta = 10\n",
      "u_value = 1.0\n",
      "mu = 0.5\n",
      "#epsk = []\n",
      "#vk = []\n",
      "epsk = [-0.5, 0.5]\n",
      "vk = [1., 1.]"
     ],
     "language": "python",
     "metadata": {},
     "outputs": [],
     "prompt_number": 4
    },
    {
     "cell_type": "code",
     "collapsed": true,
     "input": [
      "def get_system(u_value, mu, epsk, vk):\n",
      "    nbath = len(epsk)\n",
      "    annh = get_annihilators(2 * (1 + nbath))\n",
      "\n",
      "    # Construct local (non-interacting and interaction part)\n",
      "    cup, cdown = annh[0:2]\n",
      "    hloc = -mu * (cup.T * cup + cdown.T * cdown)\n",
      "    hint = u_value * cup.T * cup * cdown.T * cdown\n",
      "\n",
      "    # For each bath site, construct hybridisation and bath energy\n",
      "    hhyb = 0\n",
      "    hbath = 0\n",
      "    for k, (eps, v) in enumerate(zip(epsk, vk)):\n",
      "        fup, fdown = annh[2*k+2:2*k+4]\n",
      "        hhyb = (hhyb + v * fup.T * cup + np.conj(v) * cup.T * fup\n",
      "                + v * fdown.T * cdown + np.conj(v) * cdown.T * fdown)\n",
      "        hbath = hbath + eps * fup.T * fup + eps * fdown.T * fdown\n",
      "        \n",
      "    return annh, hloc + hint + hhyb + hbath"
     ],
     "language": "python",
     "metadata": {},
     "outputs": [],
     "prompt_number": 5
    },
    {
     "cell_type": "code",
     "collapsed": false,
     "input": [
      "annh, ham = get_system(u_value, mu, epsk, vk)"
     ],
     "language": "python",
     "metadata": {},
     "outputs": [],
     "prompt_number": 6
    },
    {
     "cell_type": "code",
     "collapsed": false,
     "input": [
      "pl.pcolormesh(np.array(ham), cmap='bwr', vmin=-1, vmax=1)\n",
      "pl.colorbar()\n",
      "pl.title(\"Hamiltonian in occupation number basis\")\n",
      "pl.axis('tight')\n",
      "pl.gca().invert_yaxis()"
     ],
     "language": "python",
     "metadata": {},
     "outputs": [
      {
       "metadata": {},
       "output_type": "display_data",
       "png": "[encoded data removed]",
       "text": [
        "<matplotlib.figure.Figure at 0x7f3d38fa57d0>"
       ]
      }
     ],
     "prompt_number": 7
    },
    {
     "cell_type": "markdown",
     "metadata": {},
     "source": [
      "Diagonalise the many-body Hamiltonian exactly (we can do this since it is small):\n",
      "$ H = B\\ \\mathrm{diag}(E)\\ B^\\dagger $. \n",
      "To be consistent, we also rotate the creation and annihilation operators in the eigenbasis:\n",
      "$ \\tilde c_i = B^\\dagger c_i B $."
     ]
    },
    {
     "cell_type": "code",
     "collapsed": false,
     "input": [
      "e, basis = np.linalg.eigh(ham)\n",
      "annh_tilde = [basis.conj().T * ci * basis for ci in annh]"
     ],
     "language": "python",
     "metadata": {},
     "outputs": [],
     "prompt_number": 8
    },
    {
     "cell_type": "markdown",
     "metadata": {},
     "source": [
      "It is convenient to shift all energies such that the ground state $E_0 = 0$, because else both\n",
      "the denominator and the numerator in expectation values may become large. Afterwards, $Z$ becomes essentially the degeneracy of the ground state (at least at large $\\beta$)"
     ]
    },
    {
     "cell_type": "code",
     "collapsed": true,
     "input": [
      "def evolve(tau):\n",
      "    global e\n",
      "    return np.diag(np.exp(-tau * e))"
     ],
     "language": "python",
     "metadata": {},
     "outputs": [],
     "prompt_number": 9
    },
    {
     "cell_type": "code",
     "collapsed": false,
     "input": [
      "z = evolve(beta).sum()\n",
      "print \"Before shifting: Z =\", z\n",
      "\n",
      "e -= e.min()\n",
      "z = evolve(beta).sum()\n",
      "print \"After shifting:  Z =\", z"
     ],
     "language": "python",
     "metadata": {},
     "outputs": [
      {
       "output_type": "stream",
       "stream": "stdout",
       "text": [
        "Before shifting: Z = 5.88819169361e+14\n",
        "After shifting:  Z = 3.87936702286\n"
       ]
      }
     ],
     "prompt_number": 10
    },
    {
     "cell_type": "markdown",
     "metadata": {
      "collapsed": false
     },
     "source": [
      "Compute the Green's function in small imaginary time steps as:\n",
      "$$\n",
      "G_{ij}(\\tau) = -\\frac 1Z \\mathrm{tr}\\big(e^{-(\\beta-\\tau)H} c_i(\\tau) e^{-\\tau H} c^\\dagger_j(0)\\big)\n",
      "= -\\frac 1Z \\mathrm{tr}\\big( \n",
      "\\mathrm{diag}(e^{-(\\beta-\\tau)E})\\ \\tilde c_i(\\tau) \n",
      "\\ \\mathrm{diag}(e^{-\\tau E})\\ \\tilde c^\\dagger_j(0)\\big)\n",
      "$$"
     ]
    },
    {
     "cell_type": "code",
     "collapsed": true,
     "input": [
      "tau = np.linspace(0, beta, 100, True)\n",
      "gtau = np.zeros_like(tau)\n",
      "oper1 = annh_tilde[0]\n",
      "oper2 = annh_tilde[0].conj().T\n",
      "for i, t in enumerate(tau):\n",
      "    gtau[i] = (evolve(beta - t) * oper2 * evolve(t) * oper1).trace()\n",
      "gtau /= -z"
     ],
     "language": "python",
     "metadata": {},
     "outputs": [],
     "prompt_number": 11
    },
    {
     "cell_type": "code",
     "collapsed": false,
     "input": [
      "pl.plot(tau, gtau)\n",
      "pl.title(r\"$G(\\tau)$\");"
     ],
     "language": "python",
     "metadata": {},
     "outputs": [
      {
       "metadata": {},
       "output_type": "display_data",
       "png": "[encoded data removed]",
       "text": [
        "<matplotlib.figure.Figure at 0x7f3d389c4450>"
       ]
      }
     ],
     "prompt_number": 12
    },
    {
     "cell_type": "markdown",
     "metadata": {},
     "source": [
      "Post-mortem\n",
      "-----------\n",
      "  * We have derived a fairly general method for small many-body Hamiltonians:\n",
      "    the method can be generalised to multiple orbitals/sites pretty easily.\n",
      "  \n",
      "  * What is missing for DMFT is to compute the Green's function on the\n",
      "    Matsubara axis by a Fourier transform and then also the self-energy.\n",
      "  \n",
      "  * The main bottleneck of ED is *memory*: the matrices involved grow as $4^{2N}$,\n",
      "    where $N$ is the number of bath plus local orbitals.  One can remedy that in\n",
      "    a couple of ways:\n",
      "    \n",
      "      1. From the pseudocolor plot we conjecture that $H$ stays fairly sparse.  We\n",
      "         can therefore use sparse arithmetic (`scipy.sparse`) to store all matrices\n",
      "         and hopefully bring the scaling down to $4^N$.\n",
      "\n",
      "      2. We need to think about the diagonalisation step then, however.  We can do this\n",
      "         by decomposing the Hamiltonian into blocks (Hint: this is equivalent to a graph\n",
      "         problem -- `scipy.sparse.csgraph.connected_components`) and using dense algorithms\n",
      "         on the blocks.  This also allows us to use the block structure in the computation\n",
      "         of the Green's function.\n",
      "      \n",
      "      3. Especially for low temperatures, we can alternatively use the Lanczos procedure to\n",
      "         truncate the outer trace for the Green's function computation to the lowest-lying\n",
      "         eigenstates.\n",
      "         \n",
      "      4. If we work with blocks, we can also distribute them across computing nodes\n",
      "         (`mpi4py`)."
     ]
    },
    {
     "cell_type": "code",
     "collapsed": true,
     "input": [],
     "language": "python",
     "metadata": {},
     "outputs": [],
     "prompt_number": 12
    }
   ],
   "metadata": {}
  }
 ]
}