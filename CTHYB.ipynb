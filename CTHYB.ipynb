{
 "cells": [
  {
   "cell_type": "code",
   "execution_count": 53,
   "metadata": {
    "collapsed": true
   },
   "outputs": [],
   "source": [
    "# Horrible CT-HYB\n",
    "# Authors: Markus Wallerberger, Patrik Gunacker\n",
    "# Permission to use for anything but serious science."
   ]
  },
  {
   "cell_type": "code",
   "execution_count": 54,
   "metadata": {
    "collapsed": true
   },
   "outputs": [],
   "source": [
    "from __future__ import division\n",
    "\n",
    "import numpy as np\n",
    "import matplotlib.pyplot as pl"
   ]
  },
  {
   "cell_type": "code",
   "execution_count": 55,
   "metadata": {
    "collapsed": true
   },
   "outputs": [],
   "source": [
    "u = 2.00\n",
    "mu = 1.00\n",
    "beta = 10.0"
   ]
  },
  {
   "cell_type": "code",
   "execution_count": 56,
   "metadata": {
    "collapsed": false
   },
   "outputs": [],
   "source": [
    "def hyb_pos(cspin, aspin, tau):\n",
    "    global beta\n",
    "    cspin, aspin, tau = np.broadcast_arrays(cspin, aspin, tau)\n",
    "    return np.where(cspin == aspin, \n",
    "                    np.exp(-tau) + np.exp(-beta+tau), \n",
    "                    0\n",
    "                   )"
   ]
  },
  {
   "cell_type": "code",
   "execution_count": 57,
   "metadata": {
    "collapsed": false
   },
   "outputs": [
    {
     "data": {
      "text/plain": [
       "[<matplotlib.lines.Line2D at 0x110e005d0>]"
      ]
     },
     "execution_count": 57,
     "metadata": {},
     "output_type": "execute_result"
    },
    {
     "data": {
      "image/png": "[encoded data removed]",
      "text/plain": [
       "<matplotlib.figure.Figure at 0x110b93b10>"
      ]
     },
     "metadata": {},
     "output_type": "display_data"
    }
   ],
   "source": [
    "pl.plot(hyb_pos(0, 0, np.linspace(0, beta)))"
   ]
  },
  {
   "cell_type": "code",
   "execution_count": 58,
   "metadata": {
    "collapsed": true
   },
   "outputs": [],
   "source": [
    "c_up = np.array([\n",
    "        [0, 1, 0, 0],\n",
    "        [0, 0, 0, 0],\n",
    "        [0, 0, 0, 1],\n",
    "        [0, 0, 0, 0],\n",
    "      ])\n",
    "c_down = np.array([\n",
    "        [0, 0, 1, 0],\n",
    "        [0, 0, 0,-1],\n",
    "        [0, 0, 0, 0],\n",
    "        [0, 0, 0, 0],\n",
    "      ])\n",
    "cdagger_up = c_up.T\n",
    "cdagger_down = c_down.T"
   ]
  },
  {
   "cell_type": "code",
   "execution_count": 59,
   "metadata": {
    "collapsed": true
   },
   "outputs": [],
   "source": [
    "class Operator:\n",
    "    def __init__(self, spin, typ, tau):\n",
    "        self.spin = spin\n",
    "        self.typ = typ\n",
    "        self.tau = tau\n",
    "        self.matrix = {\n",
    "                ('cdagger', 0): cdagger_up,\n",
    "                ('cdagger', 1): cdagger_down,\n",
    "                ('c', 0): c_up,\n",
    "                ('c', 1): c_down\n",
    "            }[(typ, spin)]"
   ]
  },
  {
   "cell_type": "code",
   "execution_count": 60,
   "metadata": {
    "collapsed": false
   },
   "outputs": [],
   "source": [
    "h = - mu * cdagger_up.dot(c_up) - mu * cdagger_down.dot(c_down) \\\n",
    "    + u * cdagger_up.dot(c_up).dot(cdagger_down).dot(c_down)"
   ]
  },
  {
   "cell_type": "code",
   "execution_count": 61,
   "metadata": {
    "collapsed": true
   },
   "outputs": [],
   "source": [
    "def evolve(h, tau):\n",
    "    return np.diag(np.exp(-h.diagonal() * tau))"
   ]
  },
  {
   "cell_type": "code",
   "execution_count": 62,
   "metadata": {
    "collapsed": true
   },
   "outputs": [],
   "source": [
    "def get_local_weight(opers):\n",
    "    global h\n",
    "    last_tau = 0\n",
    "    s = np.eye(4)\n",
    "    for oper in opers:\n",
    "        s = evolve(h, oper.tau - last_tau).dot(s)\n",
    "        s = oper.matrix.dot(s)\n",
    "        last_tau = oper.tau\n",
    "    s = evolve(h, beta - last_tau).dot(s)\n",
    "    return s.trace()"
   ]
  },
  {
   "cell_type": "code",
   "execution_count": 63,
   "metadata": {
    "collapsed": true
   },
   "outputs": [],
   "source": [
    "def get_hyb_antiperiodic(cspin, aspin, tau):\n",
    "    global beta\n",
    "    cspin, aspin, tau = np.broadcast_arrays(cspin, aspin, tau)\n",
    "    where_pos = tau >= 0\n",
    "    vals = np.empty_like(tau)\n",
    "    vals[where_pos] = hyb_pos(cspin[where_pos], aspin[where_pos],\n",
    "                              tau[where_pos])\n",
    "    vals[~where_pos] = -hyb_pos(cspin[~where_pos], aspin[~where_pos],\n",
    "                                tau[~where_pos] + beta)\n",
    "    return vals"
   ]
  },
  {
   "cell_type": "code",
   "execution_count": 64,
   "metadata": {
    "collapsed": true
   },
   "outputs": [],
   "source": [
    "def get_hyb_matrix(opers):\n",
    "    opers = sorted(opers, key=lambda op: op.typ)\n",
    "    spin = np.asarray([op.spin for op in opers])\n",
    "    tau = np.asarray([op.tau for op in opers])\n",
    "    nopershalf = spin.size//2\n",
    "    hyb_matrix = get_hyb_antiperiodic(\n",
    "        spin[nopershalf:, np.newaxis],\n",
    "        spin[np.newaxis, :nopershalf],\n",
    "        tau[nopershalf:, np.newaxis] - tau[np.newaxis, :nopershalf]\n",
    "        )\n",
    "    return hyb_matrix, tau, spin"
   ]
  },
  {
   "cell_type": "code",
   "execution_count": 65,
   "metadata": {
    "collapsed": true
   },
   "outputs": [],
   "source": [
    "def get_bath_weight(opers):\n",
    "    try:\n",
    "        hyb_matrix, tau, spin = get_hyb_matrix(opers)\n",
    "        return np.linalg.det(hyb_matrix)\n",
    "    except np.linalg.LinAlgError:\n",
    "        if np.size(opers): raise\n",
    "        return 1."
   ]
  },
  {
   "cell_type": "code",
   "execution_count": 66,
   "metadata": {
    "collapsed": false
   },
   "outputs": [],
   "source": [
    "def add_pair(spin, tau1, tau2):\n",
    "    global opers, prop_opers, prop_weight\n",
    "    prop_opers = list(opers) + [\n",
    "                    Operator(spin, 'c', tau1),\n",
    "                    Operator(spin, 'cdagger', tau2)\n",
    "                    ]\n",
    "    prop_opers = sorted(prop_opers, key=lambda op: op.tau)\n",
    "    prop_weight = get_local_weight(prop_opers)\n",
    "    if prop_weight != 0:\n",
    "        prop_weight *= get_bath_weight(prop_opers)\n",
    "    # Ignore sign problem\n",
    "    prop_weight = np.abs(prop_weight)"
   ]
  },
  {
   "cell_type": "code",
   "execution_count": 67,
   "metadata": {
    "collapsed": true
   },
   "outputs": [],
   "source": [
    "def remove_pair(index1, index2):\n",
    "    # Convert bath to local index\n",
    "    global opers, prop_opers, prop_weight\n",
    "    lookup = np.argsort([op.typ for op in opers], kind='mergesort')\n",
    "    index1 = lookup[index1]\n",
    "    index2 = lookup[len(opers)//2 + index2]\n",
    "    prop_opers = np.delete(opers, [index1, index2])\n",
    "    prop_weight = get_local_weight(prop_opers)\n",
    "    if prop_weight != 0:\n",
    "        prop_weight *= get_bath_weight(prop_opers)\n",
    "    # Ignore sign problem\n",
    "    prop_weight = np.abs(prop_weight)"
   ]
  },
  {
   "cell_type": "code",
   "execution_count": 68,
   "metadata": {
    "collapsed": true
   },
   "outputs": [],
   "source": [
    "def qmc_step(rng):\n",
    "    global beta, opers, prop_weight, weight, prop_opers\n",
    "    move_typ = rng.randint(0, 2)\n",
    "    k = len(opers)//2\n",
    "    if move_typ == 0:\n",
    "        # INSERT\n",
    "        tau1, tau2 = rng.rand(2) * beta\n",
    "        spin = rng.randint(0, 2)\n",
    "        add_pair(spin, tau1, tau2)\n",
    "        ratio = (2 * beta**2)/(k + 1)**2\n",
    "    else:\n",
    "        # REMOVE\n",
    "        if not k:\n",
    "            return        \n",
    "        index1, index2 = rng.randint(0, k, 2)\n",
    "        remove_pair(index1, index2)\n",
    "        ratio = k**2/(2 * beta**2)\n",
    "    ratio *= np.abs(prop_weight/weight)\n",
    "    \n",
    "    if rng.rand() < ratio:\n",
    "        weight = prop_weight\n",
    "        opers = list(prop_opers)"
   ]
  },
  {
   "cell_type": "code",
   "execution_count": 69,
   "metadata": {
    "collapsed": false
   },
   "outputs": [],
   "source": [
    "def meas_gtau():\n",
    "    global opers, gtau\n",
    "    hyb_matrix, tau, spin = get_hyb_matrix(opers)\n",
    "    nopershalf = tau.size//2\n",
    "    inv_matrix = np.linalg.inv(hyb_matrix)\n",
    "    indices = spin[nopershalf:, np.newaxis] * 2 * gtau.shape[-1] + \\\n",
    "              spin[np.newaxis, :nopershalf] * gtau.shape[-1] + \\\n",
    "              (tau[nopershalf:, np.newaxis] - \n",
    "               tau[np.newaxis, :nopershalf] + beta) * gtau.shape[-1]/(2*beta)\n",
    "    gtau += np.bincount(np.asarray(indices,int).ravel(), weights=inv_matrix.T.ravel(),\n",
    "                        minlength=gtau.size).reshape(gtau.shape)"
   ]
  },
  {
   "cell_type": "code",
   "execution_count": 70,
   "metadata": {
    "collapsed": false
   },
   "outputs": [],
   "source": [
    "opers = []\n",
    "weight = get_local_weight([])\n",
    "prop_opers = []\n",
    "prop_weight = 1.0\n",
    "\n",
    "gtau = np.zeros((2, 2, 100))\n",
    "histo = np.zeros(1000)"
   ]
  },
  {
   "cell_type": "code",
   "execution_count": 71,
   "metadata": {
    "collapsed": true
   },
   "outputs": [],
   "source": [
    "nmeas = 10000"
   ]
  },
  {
   "cell_type": "code",
   "execution_count": 72,
   "metadata": {
    "collapsed": false
   },
   "outputs": [],
   "source": [
    "rng = np.random.RandomState()\n",
    "for _ in xrange(nmeas):\n",
    "    for _ in xrange(10):\n",
    "        qmc_step(rng)\n",
    "    histo[len(opers)//2] += 1\n",
    "    meas_gtau()"
   ]
  },
  {
   "cell_type": "code",
   "execution_count": 73,
   "metadata": {
    "collapsed": false
   },
   "outputs": [],
   "source": [
    "ntau = gtau.shape[-1]//2\n",
    "gtau = gtau / (nmeas * beta * (beta/ntau))\n",
    "gtau = -gtau[0,0,:ntau] + gtau[0,0,ntau:]"
   ]
  },
  {
   "cell_type": "code",
   "execution_count": 74,
   "metadata": {
    "collapsed": true
   },
   "outputs": [],
   "source": [
    "histo /= nmeas"
   ]
  },
  {
   "cell_type": "code",
   "execution_count": 75,
   "metadata": {
    "collapsed": false
   },
   "outputs": [
    {
     "data": {
      "text/plain": [
       "[<matplotlib.lines.Line2D at 0x110f72e50>]"
      ]
     },
     "execution_count": 75,
     "metadata": {},
     "output_type": "execute_result"
    },
    {
     "data": {
      "image/png": "[encoded data removed]",
      "text/plain": [
       "<matplotlib.figure.Figure at 0x110b938d0>"
      ]
     },
     "metadata": {},
     "output_type": "display_data"
    }
   ],
   "source": [
    "pl.plot(histo[:100])"
   ]
  },
  {
   "cell_type": "code",
   "execution_count": 76,
   "metadata": {
    "collapsed": false
   },
   "outputs": [
    {
     "data": {
      "text/plain": [
       "[<matplotlib.lines.Line2D at 0x1111eded0>]"
      ]
     },
     "execution_count": 76,
     "metadata": {},
     "output_type": "execute_result"
    },
    {
     "data": {
      "image/png": "[encoded data removed]",
      "text/plain": [
       "<matplotlib.figure.Figure at 0x110fa8310>"
      ]
     },
     "metadata": {},
     "output_type": "display_data"
    }
   ],
   "source": [
    "pl.plot(gtau)"
   ]
  },
  {
   "cell_type": "code",
   "execution_count": null,
   "metadata": {
    "collapsed": true
   },
   "outputs": [],
   "source": []
  }
 ],
 "metadata": {
  "anaconda-cloud": {},
  "kernelspec": {
   "display_name": "Python [conda root]",
   "language": "python",
   "name": "conda-root-py"
  },
  "language_info": {
   "codemirror_mode": {
    "name": "ipython",
    "version": 2
   },
   "file_extension": ".py",
   "mimetype": "text/x-python",
   "name": "python",
   "nbconvert_exporter": "python",
   "pygments_lexer": "ipython2",
   "version": "2.7.12"
  }
 },
 "nbformat": 4,
 "nbformat_minor": 1
}
