{
 "metadata": {
  "name": "",
  "signature": "sha256:cfc2534846ee4ffdfc8587dae54ac9502fecec2ad3f8ae11e01d2a95649af36e"
 },
 "nbformat": 3,
 "nbformat_minor": 0,
 "worksheets": [
  {
   "cells": [
    {
     "cell_type": "markdown",
     "metadata": {},
     "source": [
      "Variational Monte Carlo\n",
      "=======================\n",
      "\n",
      "For details of implementation/theory see\n",
      "[Martin, Reining and Ceperley: Interacting Electrons, ch. 21+22](http://adsabs.harvard.edu/abs/2016inel.book.....M)\n",
      "\n",
      "Author: Shivesh A. Pathak"
     ]
    },
    {
     "cell_type": "code",
     "collapsed": false,
     "input": [
      "import numpy as np\n",
      "import matplotlib.pyplot as plt\n",
      "import scipy.integrate as integ\n",
      "\n",
      "%matplotlib inline"
     ],
     "language": "python",
     "metadata": {},
     "outputs": [],
     "prompt_number": 1
    },
    {
     "cell_type": "markdown",
     "metadata": {},
     "source": [
      "Function proportional to wave function and related quantities\n",
      "-------------------------------------------------------------"
     ]
    },
    {
     "cell_type": "code",
     "collapsed": false,
     "input": [
      "def psiT(x):\n",
      "    \"Trial wave-function\"\n",
      "    #return np.exp(-x**2/3.) #Trial wavefunction\n",
      "    return np.exp(-x**2/2.)  #Exact ground state"
     ],
     "language": "python",
     "metadata": {},
     "outputs": [],
     "prompt_number": 2
    },
    {
     "cell_type": "code",
     "collapsed": false,
     "input": [
      "def p2L(x):\n",
      "    \"local p^2\"\n",
      "    dx=1e-7\n",
      "    numer=(2.*psiT(x)-psiT(x+dx)-psiT(x-dx))/dx**2\n",
      "    return numer/psiT(x)"
     ],
     "language": "python",
     "metadata": {},
     "outputs": [],
     "prompt_number": 3
    },
    {
     "cell_type": "code",
     "collapsed": false,
     "input": [
      "def x2L(x):\n",
      "    \"local x^2\"\n",
      "    return x**2"
     ],
     "language": "python",
     "metadata": {},
     "outputs": [],
     "prompt_number": 4
    },
    {
     "cell_type": "code",
     "collapsed": false,
     "input": [
      "def EL(x):\n",
      "    \"local energy\"\n",
      "    return (p2L(x)+x2L(x))/2."
     ],
     "language": "python",
     "metadata": {},
     "outputs": [],
     "prompt_number": 5
    },
    {
     "cell_type": "code",
     "collapsed": false,
     "input": [
      "def C(O):\n",
      "    \"Autocorrelation function and time\"\n",
      "    # TODO: should be vectorized at some point\n",
      "    Ck=np.zeros(N)\n",
      "    Obar=np.mean(O)\n",
      "    denom=np.sum((O-Obar)**2)\n",
      "\n",
      "    for k in range(N):\n",
      "        numer=0\n",
      "        for n in range(N-k):\n",
      "            numer+=((O[n]-Obar)*(O[n+k]-Obar))\n",
      "        Ck[k]=numer/denom\n",
      "\n",
      "    return Ck, 1+2.*np.sum(Ck)"
     ],
     "language": "python",
     "metadata": {},
     "outputs": [],
     "prompt_number": 6
    },
    {
     "cell_type": "markdown",
     "metadata": {},
     "source": [
      "Metropolis sampling\n",
      "-------------------"
     ]
    },
    {
     "cell_type": "code",
     "collapsed": false,
     "input": [
      "def T(x,sig):\n",
      "    \"Transition step: symmetric gaussian\"\n",
      "    return np.random.normal(x,sig)"
     ],
     "language": "python",
     "metadata": {},
     "outputs": [],
     "prompt_number": 7
    },
    {
     "cell_type": "code",
     "collapsed": false,
     "input": [
      "def A(x,y):\n",
      "    \"Metropolis accept/reject from x->y\"\n",
      "    a=psiT(y)**2/psiT(x)**2\n",
      "    u=np.random.uniform()\n",
      "    return a > u"
     ],
     "language": "python",
     "metadata": {},
     "outputs": [],
     "prompt_number": 8
    },
    {
     "cell_type": "code",
     "collapsed": false,
     "input": [
      "def Metro(N, x0, sig):\n",
      "    \"Generate sequence of samples using Metropolis algorithm\"\n",
      "    acc=0    #Number of accepted moves\n",
      "    x=np.zeros(N)\n",
      "    x[0]=x0\n",
      "\n",
      "    #get N samples, no binning\n",
      "    for n in range(1,N):\n",
      "        xprop=T(x[n-1],sig)         #Proposed move\n",
      "        if(A(x[n-1],xprop)):\n",
      "            x[n]=xprop\n",
      "            acc+=1\n",
      "        else:\n",
      "            x[n]=x[n-1]\n",
      "\n",
      "    print \"Acceptance rate = {0}\".format((acc+0.0)/N)    #Acceptance rate, ~ 0.50 is optimal\n",
      "    return x"
     ],
     "language": "python",
     "metadata": {},
     "outputs": [],
     "prompt_number": 9
    },
    {
     "cell_type": "markdown",
     "metadata": {},
     "source": [
      "Run Metropolis\n",
      "---------------"
     ]
    },
    {
     "cell_type": "code",
     "collapsed": false,
     "input": [
      "#Number of samples you want in your average\n",
      "N=100\n",
      "\n",
      "#Standard deviation of transition probability guassian.\n",
      "#Too large of a sigma will reduce your acceptance rate, too small of a sigma will make\n",
      "#the steps unecessarily small. Your acceptance rate ~ 0.5, see the printout of Metro()\n",
      "sig=1.0\n",
      "\n",
      "#The initial sample point you want to start the sampling from.\n",
      "#If you choose x0 too far off 0, then you will have to discard some steps in the \n",
      "#averaging since they will be transient (see the plots of traces below.)\n",
      "x0=1.0    "
     ],
     "language": "python",
     "metadata": {},
     "outputs": [],
     "prompt_number": 10
    },
    {
     "cell_type": "code",
     "collapsed": false,
     "input": [
      "x = Metro(N,x0,sig)"
     ],
     "language": "python",
     "metadata": {},
     "outputs": [
      {
       "output_type": "stream",
       "stream": "stdout",
       "text": [
        "Acceptance rate = 0.65\n"
       ]
      }
     ],
     "prompt_number": 11
    },
    {
     "cell_type": "code",
     "collapsed": false,
     "input": [
      "#Plot histogram of samples, compare to psiT**2/(normalization)\n",
      "z=np.sort(x)\n",
      "norm,err=integ.quad(lambda x: psiT(x)**2,-np.inf,np.inf)\n",
      "plt.plot(z,psiT(z)**2/norm,'.') #Normalized trial wavefunction\n",
      "plt.hist(x,bins=20,normed=1);"
     ],
     "language": "python",
     "metadata": {},
     "outputs": [
      {
       "metadata": {},
       "output_type": "display_data",
       "png": "[encoded data removed]",
       "text": [
        "<matplotlib.figure.Figure at 0x7f61c80b5410>"
       ]
      }
     ],
     "prompt_number": 12
    },
    {
     "cell_type": "markdown",
     "metadata": {},
     "source": [
      "Postprocessing\n",
      "--------------"
     ]
    },
    {
     "cell_type": "code",
     "collapsed": false,
     "input": [
      "#Get local quantities\n",
      "p2 = p2L(x)\n",
      "x2 = x2L(x)\n",
      "E = EL(x)"
     ],
     "language": "python",
     "metadata": {},
     "outputs": [],
     "prompt_number": 13
    },
    {
     "cell_type": "code",
     "collapsed": false,
     "input": [
      "# Plot trace of local p^2/2., x^2/2. and E\n",
      "n=np.arange(N)\n",
      "plt.subplot(221)\n",
      "plt.plot(n,p2/2.,'b')\n",
      "plt.subplot(222)\n",
      "plt.plot(n,x2/2.,'r')\n",
      "plt.subplot(223)\n",
      "plt.plot(n,E,'k')\n",
      "plt.show()"
     ],
     "language": "python",
     "metadata": {},
     "outputs": [
      {
       "metadata": {},
       "output_type": "display_data",
       "png": "[encoded data removed]",
       "text": [
        "<matplotlib.figure.Figure at 0x7f61c80b5150>"
       ]
      }
     ],
     "prompt_number": 14
    },
    {
     "cell_type": "code",
     "collapsed": false,
     "input": [
      "#Caclulate and plot autocorrelation function and autocorrelation time\n",
      "ap2, kp2 = C(p2/2.)\n",
      "ax2, kx2 = C(x2/2.)\n",
      "aE, kE = C(E)"
     ],
     "language": "python",
     "metadata": {},
     "outputs": [],
     "prompt_number": 15
    },
    {
     "cell_type": "code",
     "collapsed": false,
     "input": [
      "plt.plot(ap2,'b')\n",
      "plt.plot(ax2,'r')\n",
      "plt.plot(aE,'m')\n",
      "plt.show()"
     ],
     "language": "python",
     "metadata": {},
     "outputs": [
      {
       "metadata": {},
       "output_type": "display_data",
       "png": "[encoded data removed]",
       "text": [
        "<matplotlib.figure.Figure at 0x7f61c809dbd0>"
       ]
      }
     ],
     "prompt_number": 16
    },
    {
     "cell_type": "code",
     "collapsed": false,
     "input": [
      "#Get and print correlation time\n",
      "print r\"k_{p^2/2.}\"+\" = {0}\".format(kp2)\n",
      "print r\"k_{x^2/2.}\"+\" = {0}\".format(kx2)\n",
      "print r\"k_{E_v}\"+\" = {0}\".format(kE)"
     ],
     "language": "python",
     "metadata": {},
     "outputs": [
      {
       "output_type": "stream",
       "stream": "stdout",
       "text": [
        "k_{p^2/2.} = 2.0\n",
        "k_{x^2/2.} = 2.0\n",
        "k_{E_v} = 2.0\n"
       ]
      }
     ],
     "prompt_number": 17
    },
    {
     "cell_type": "code",
     "collapsed": false,
     "input": [
      "#Print out averages and errors with autocorrelation included\n",
      "print \"p^2 = {0} +/- {1}\".format(np.mean(p2)/2.,np.sqrt(np.mean((p2/2.-np.mean(p2/2.))**2)*kp2/N))\n",
      "print \"x^2 = {0} +/- {1}\".format(np.mean(x2)/2.,np.sqrt(np.mean((x2/2.-np.mean(x2/2.))**2)*kx2/N))\n",
      "print \"E_v = {0} +/- {1}\".format(np.mean(E),np.sqrt(np.mean((E-np.mean(E))**2)*kE/N))"
     ],
     "language": "python",
     "metadata": {},
     "outputs": [
      {
       "output_type": "stream",
       "stream": "stdout",
       "text": [
        "p^2 = 0.240048056082 +/- 0.0550919868639\n",
        "x^2 = 0.261419866594 +/- 0.0553305863695\n",
        "E_v = 0.501467922676 +/- 0.000918372564392\n"
       ]
      }
     ],
     "prompt_number": 18
    },
    {
     "cell_type": "code",
     "collapsed": false,
     "input": [],
     "language": "python",
     "metadata": {},
     "outputs": [],
     "prompt_number": 18
    }
   ],
   "metadata": {}
  }
 ]
}